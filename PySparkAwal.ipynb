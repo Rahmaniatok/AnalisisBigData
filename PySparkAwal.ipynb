
from pyspark.sql import SparkSession

spark = SparkSession.builder.appName("Python Spark SQL Awal").getOrCreate()

df = spark.read.csv("/content/drive/MyDrive/Colab Notebooks/starbucks-menu-nutrition-drinks.csv", header="TRUE")
df.show()

df.printSchema()

df.select("_c0").show()

df.filter(df['Calories']>50).show()

df.groupBy("Calories").count().show()

df.createOrReplaceTempView("Starbuck")

sqlDF = spark.sql("SELECT * FROM Starbuck")
sqlDF.show()

