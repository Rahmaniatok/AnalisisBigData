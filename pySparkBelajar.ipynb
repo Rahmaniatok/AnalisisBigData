{
 "cells": [
  {
   "cell_type": "code",
   "execution_count": 2,
   "metadata": {},
   "outputs": [],
   "source": [
    "import pyspark\n",
    "from pyspark.sql import SparkSession"
   ]
  },
  {
   "cell_type": "code",
   "execution_count": 3,
   "metadata": {},
   "outputs": [
    {
     "name": "stdout",
     "output_type": "stream",
     "text": [
      "+--------------------+--------+-------+---------+---------+-------+------+\n",
      "|                 _c0|Calories|Fat (g)|Carb. (g)|Fiber (g)|Protein|Sodium|\n",
      "+--------------------+--------+-------+---------+---------+-------+------+\n",
      "|Cool Lime Starbuc...|      45|      0|       11|        0|      0|    10|\n",
      "|    Ombré Pink Drink|       -|      -|        -|        -|      -|     -|\n",
      "|          Pink Drink|       -|      -|        -|        -|      -|     -|\n",
      "|Strawberry Acai S...|      80|      0|       18|        1|      0|    10|\n",
      "|Very Berry Hibisc...|      60|      0|       14|        1|      0|    10|\n",
      "|        Violet Drink|       -|      -|        -|        -|      -|     -|\n",
      "|Evolution Fresh™ ...|       -|      -|        -|        -|      -|     -|\n",
      "|Evolution Fresh™ ...|       -|      -|        -|        -|      -|     -|\n",
      "|Evolution Fresh™ ...|     110|      0|       28|        0|      0|     5|\n",
      "|         Iced Coffee|       0|      0|        0|        0|      0|     0|\n",
      "|Iced Coffee with ...|       -|      -|        -|        -|      -|     -|\n",
      "|Iced Espresso Cla...|     130|    2.5|       21|        0|      5|    65|\n",
      "|Iced Espresso Cla...|     140|    2.5|       23|        0|      5|    90|\n",
      "|Iced Espresso Cla...|     130|    2.5|       21|        0|      5|    65|\n",
      "|Starbucks® Carame...|       -|      -|        -|        -|      -|     -|\n",
      "|Starbucks® Iced C...|       -|      -|        -|        -|      -|     -|\n",
      "|Starbucks® Low Ca...|       -|      -|        -|        -|      -|     -|\n",
      "|Starbucks® Vanill...|       -|      -|        -|        -|      -|     -|\n",
      "|    Shaken Sweet Tea|      80|      0|       19|        0|      0|    10|\n",
      "|Tazo® Bottled Ber...|      60|      0|       15|        0|      0|    10|\n",
      "+--------------------+--------+-------+---------+---------+-------+------+\n",
      "only showing top 20 rows\n",
      "\n"
     ]
    }
   ],
   "source": [
    "spark = SparkSession.builder.appName(\"Python Spark SQL Awal\").getOrCreate()\n",
    "\n",
    "df = spark.read.csv(\"starbucks-menu-nutrition-drinks.csv\", header=\"TRUE\")\n",
    "df.show()"
   ]
  },
  {
   "cell_type": "code",
   "execution_count": 4,
   "metadata": {},
   "outputs": [
    {
     "name": "stdout",
     "output_type": "stream",
     "text": [
      "root\n",
      " |-- _c0: string (nullable = true)\n",
      " |-- Calories: string (nullable = true)\n",
      " |-- Fat (g): string (nullable = true)\n",
      " |-- Carb. (g): string (nullable = true)\n",
      " |-- Fiber (g): string (nullable = true)\n",
      " |-- Protein: string (nullable = true)\n",
      " |-- Sodium: string (nullable = true)\n",
      "\n"
     ]
    }
   ],
   "source": [
    "df.printSchema()"
   ]
  },
  {
   "cell_type": "code",
   "execution_count": 5,
   "metadata": {},
   "outputs": [
    {
     "name": "stdout",
     "output_type": "stream",
     "text": [
      "+--------------------+\n",
      "|                 _c0|\n",
      "+--------------------+\n",
      "|Cool Lime Starbuc...|\n",
      "|    Ombré Pink Drink|\n",
      "|          Pink Drink|\n",
      "|Strawberry Acai S...|\n",
      "|Very Berry Hibisc...|\n",
      "|        Violet Drink|\n",
      "|Evolution Fresh™ ...|\n",
      "|Evolution Fresh™ ...|\n",
      "|Evolution Fresh™ ...|\n",
      "|         Iced Coffee|\n",
      "|Iced Coffee with ...|\n",
      "|Iced Espresso Cla...|\n",
      "|Iced Espresso Cla...|\n",
      "|Iced Espresso Cla...|\n",
      "|Starbucks® Carame...|\n",
      "|Starbucks® Iced C...|\n",
      "|Starbucks® Low Ca...|\n",
      "|Starbucks® Vanill...|\n",
      "|    Shaken Sweet Tea|\n",
      "|Tazo® Bottled Ber...|\n",
      "+--------------------+\n",
      "only showing top 20 rows\n",
      "\n"
     ]
    }
   ],
   "source": [
    "df.select(\"_c0\").show()"
   ]
  },
  {
   "cell_type": "code",
   "execution_count": 6,
   "metadata": {},
   "outputs": [
    {
     "name": "stdout",
     "output_type": "stream",
     "text": [
      "+--------------------+--------+-------+---------+---------+-------+------+\n",
      "|                 _c0|Calories|Fat (g)|Carb. (g)|Fiber (g)|Protein|Sodium|\n",
      "+--------------------+--------+-------+---------+---------+-------+------+\n",
      "|Strawberry Acai S...|      80|      0|       18|        1|      0|    10|\n",
      "|Very Berry Hibisc...|      60|      0|       14|        1|      0|    10|\n",
      "|Evolution Fresh™ ...|     110|      0|       28|        0|      0|     5|\n",
      "|Iced Espresso Cla...|     130|    2.5|       21|        0|      5|    65|\n",
      "|Iced Espresso Cla...|     140|    2.5|       23|        0|      5|    90|\n",
      "|Iced Espresso Cla...|     130|    2.5|       21|        0|      5|    65|\n",
      "|    Shaken Sweet Tea|      80|      0|       19|        0|      0|    10|\n",
      "|Tazo® Bottled Ber...|      60|      0|       15|        0|      0|    10|\n",
      "|Tazo® Bottled Bla...|     150|      0|       38|        0|      0|    15|\n",
      "|Tazo® Bottled Bla...|     140|      0|       35|        0|      0|    10|\n",
      "|Tazo® Bottled Bra...|     140|      0|       35|        0|      0|    15|\n",
      "|Tazo® Bottled Gia...|     150|      0|       37|        0|      0|    15|\n",
      "|Tazo® Bottled Ice...|      70|      0|       17|        0|      0|    10|\n",
      "|Tazo® Bottled Lem...|     120|      0|       31|        0|      0|    10|\n",
      "|Tazo® Bottled Org...|     140|      0|       35|        0|      0|    10|\n",
      "|Tazo® Bottled Org...|      60|      0|       15|        0|      0|    10|\n",
      "|Tazo® Bottled Org...|     120|      0|       31|        0|      0|    10|\n",
      "|Tazo® Bottled Plu...|     140|      0|       35|        0|      0|    10|\n",
      "|Tazo® Bottled Taz...|     150|      0|       38|        0|      0|    15|\n",
      "|Tazo® Bottled Whi...|     140|      0|       35|        0|      0|    10|\n",
      "+--------------------+--------+-------+---------+---------+-------+------+\n",
      "only showing top 20 rows\n",
      "\n"
     ]
    }
   ],
   "source": [
    "df.filter(df['Calories']>50).show()"
   ]
  },
  {
   "cell_type": "code",
   "execution_count": 7,
   "metadata": {},
   "outputs": [
    {
     "name": "stdout",
     "output_type": "stream",
     "text": [
      "+--------+-----+\n",
      "|Calories|count|\n",
      "+--------+-----+\n",
      "|     200|    4|\n",
      "|      30|    3|\n",
      "|     250|    4|\n",
      "|       0|    2|\n",
      "|     110|    3|\n",
      "|     320|    2|\n",
      "|     300|    2|\n",
      "|       5|    7|\n",
      "|      70|    5|\n",
      "|     140|   13|\n",
      "|     120|    5|\n",
      "|     130|    5|\n",
      "|     290|    1|\n",
      "|     230|    1|\n",
      "|      60|    7|\n",
      "|      90|    3|\n",
      "|     280|    1|\n",
      "|       -|   85|\n",
      "|     190|    4|\n",
      "|     360|    1|\n",
      "+--------+-----+\n",
      "only showing top 20 rows\n",
      "\n"
     ]
    }
   ],
   "source": [
    "df.groupBy(\"Calories\").count().show()"
   ]
  },
  {
   "cell_type": "code",
   "execution_count": 9,
   "metadata": {},
   "outputs": [
    {
     "name": "stdout",
     "output_type": "stream",
     "text": [
      "+--------------------+--------+-------+---------+---------+-------+------+\n",
      "|                 _c0|Calories|Fat (g)|Carb. (g)|Fiber (g)|Protein|Sodium|\n",
      "+--------------------+--------+-------+---------+---------+-------+------+\n",
      "|Cool Lime Starbuc...|      45|      0|       11|        0|      0|    10|\n",
      "|    Ombré Pink Drink|       -|      -|        -|        -|      -|     -|\n",
      "|          Pink Drink|       -|      -|        -|        -|      -|     -|\n",
      "|Strawberry Acai S...|      80|      0|       18|        1|      0|    10|\n",
      "|Very Berry Hibisc...|      60|      0|       14|        1|      0|    10|\n",
      "|        Violet Drink|       -|      -|        -|        -|      -|     -|\n",
      "|Evolution Fresh™ ...|       -|      -|        -|        -|      -|     -|\n",
      "|Evolution Fresh™ ...|       -|      -|        -|        -|      -|     -|\n",
      "|Evolution Fresh™ ...|     110|      0|       28|        0|      0|     5|\n",
      "|         Iced Coffee|       0|      0|        0|        0|      0|     0|\n",
      "|Iced Coffee with ...|       -|      -|        -|        -|      -|     -|\n",
      "|Iced Espresso Cla...|     130|    2.5|       21|        0|      5|    65|\n",
      "|Iced Espresso Cla...|     140|    2.5|       23|        0|      5|    90|\n",
      "|Iced Espresso Cla...|     130|    2.5|       21|        0|      5|    65|\n",
      "|Starbucks® Carame...|       -|      -|        -|        -|      -|     -|\n",
      "|Starbucks® Iced C...|       -|      -|        -|        -|      -|     -|\n",
      "|Starbucks® Low Ca...|       -|      -|        -|        -|      -|     -|\n",
      "|Starbucks® Vanill...|       -|      -|        -|        -|      -|     -|\n",
      "|    Shaken Sweet Tea|      80|      0|       19|        0|      0|    10|\n",
      "|Tazo® Bottled Ber...|      60|      0|       15|        0|      0|    10|\n",
      "+--------------------+--------+-------+---------+---------+-------+------+\n",
      "only showing top 20 rows\n",
      "\n"
     ]
    }
   ],
   "source": [
    "df.createOrReplaceTempView(\"Starbuck\")\n",
    "sqlDF = spark.sql(\"SELECT * FROM Starbuck\")\n",
    "sqlDF.show()"
   ]
  }
 ],
 "metadata": {
  "kernelspec": {
   "display_name": "Python 3",
   "language": "python",
   "name": "python3"
  },
  "language_info": {
   "codemirror_mode": {
    "name": "ipython",
    "version": 3
   },
   "file_extension": ".py",
   "mimetype": "text/x-python",
   "name": "python",
   "nbconvert_exporter": "python",
   "pygments_lexer": "ipython3",
   "version": "3.8.10"
  },
  "vscode": {
   "interpreter": {
    "hash": "916dbcbb3f70747c44a77c7bcd40155683ae19c65e1c03b4aa3499c5328201f1"
   }
  }
 },
 "nbformat": 4,
 "nbformat_minor": 4
}
