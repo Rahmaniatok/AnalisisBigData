{
 "cells": [
  {
   "cell_type": "code",
   "execution_count": 44,
   "metadata": {},
   "outputs": [],
   "source": [
    "import pyspark\n",
    "import pandas as pd\n",
    "from pyspark.sql import SparkSession\n",
    "from pyspark.sql import Column\n",
    "from pyspark.sql.functions import upper, lit\n",
    "spark = SparkSession.builder.getOrCreate()"
   ]
  },
  {
   "cell_type": "code",
   "execution_count": 5,
   "metadata": {},
   "outputs": [
    {
     "name": "stderr",
     "output_type": "stream",
     "text": [
      "/home/rahmania/.local/lib/python3.8/site-packages/pyspark/sql/pandas/conversion.py:474: FutureWarning: iteritems is deprecated and will be removed in a future version. Use .items instead.\n",
      "  for column, series in pdf.iteritems():\n",
      "/home/rahmania/.local/lib/python3.8/site-packages/pyspark/sql/pandas/conversion.py:486: FutureWarning: iteritems is deprecated and will be removed in a future version. Use .items instead.\n",
      "  for column, series in pdf.iteritems():\n"
     ]
    },
    {
     "name": "stdout",
     "output_type": "stream",
     "text": [
      "+-----------+--------+------+---+----+------+\n",
      "|PassangerId|    Name|   Sex|Age|Fare|Origin|\n",
      "+-----------+--------+------+---+----+------+\n",
      "|          1|    Owen|  male| 22| 7.3|    US|\n",
      "|          2|Florence|female| 38|71.3|Europe|\n",
      "|          3|   Laina|female| 26| 7.9|    US|\n",
      "|          4|    Lily|female| 35|53.1|    US|\n",
      "|          5| William|  male| 35| 8.0|Europe|\n",
      "+-----------+--------+------+---+----+------+\n",
      "\n"
     ]
    }
   ],
   "source": [
    "pandas_df = pd.DataFrame({\n",
    "    'PassangerId': [1, 2, 3, 4, 5],\n",
    "    'Name': ['Owen', 'Florence', 'Laina', 'Lily', 'William'],\n",
    "    'Sex': ['male', 'female', 'female', 'female', 'male'],\n",
    "    'Age': [22, 38, 26, 35, 35],\n",
    "    'Fare': [7.3, 71.3, 7.9, 53.1, 8.0],\n",
    "    'Origin':['US', 'Europe', 'US','US','Europe']\n",
    "})\n",
    "df = spark.createDataFrame(pandas_df)\n",
    "df.show()"
   ]
  },
  {
   "cell_type": "code",
   "execution_count": 6,
   "metadata": {},
   "outputs": [
    {
     "name": "stdout",
     "output_type": "stream",
     "text": [
      "root\n",
      " |-- PassangerId: long (nullable = true)\n",
      " |-- Name: string (nullable = true)\n",
      " |-- Sex: string (nullable = true)\n",
      " |-- Age: long (nullable = true)\n",
      " |-- Fare: double (nullable = true)\n",
      " |-- Origin: string (nullable = true)\n",
      "\n"
     ]
    }
   ],
   "source": [
    "df.printSchema()"
   ]
  },
  {
   "cell_type": "code",
   "execution_count": 7,
   "metadata": {},
   "outputs": [
    {
     "name": "stdout",
     "output_type": "stream",
     "text": [
      "+--------+\n",
      "|    Name|\n",
      "+--------+\n",
      "|    Owen|\n",
      "|Florence|\n",
      "|   Laina|\n",
      "|    Lily|\n",
      "| William|\n",
      "+--------+\n",
      "\n"
     ]
    }
   ],
   "source": [
    "df.select(df.Name).show()"
   ]
  },
  {
   "cell_type": "code",
   "execution_count": 9,
   "metadata": {},
   "outputs": [
    {
     "name": "stdout",
     "output_type": "stream",
     "text": [
      "+-----------+--------+\n",
      "|PassangerId|    Name|\n",
      "+-----------+--------+\n",
      "|          1|    Owen|\n",
      "|          2|Florence|\n",
      "|          3|   Laina|\n",
      "|          4|    Lily|\n",
      "|          5| William|\n",
      "+-----------+--------+\n",
      "\n"
     ]
    }
   ],
   "source": [
    "df.select(df.PassangerId, df.Name).show()"
   ]
  },
  {
   "cell_type": "code",
   "execution_count": 47,
   "metadata": {},
   "outputs": [
    {
     "name": "stdout",
     "output_type": "stream",
     "text": [
      "+-----------+--------+------+---+----+------+------+\n",
      "|PassangerId|    Name|   Sex|Age|Fare|Origin|PClass|\n",
      "+-----------+--------+------+---+----+------+------+\n",
      "|          1|    Owen|  male| 22| 7.3|    US|     0|\n",
      "|          2|Florence|female| 38|71.3|Europe|     0|\n",
      "|          3|   Laina|female| 26| 7.9|    US|     0|\n",
      "|          4|    Lily|female| 35|53.1|    US|     0|\n",
      "|          5| William|  male| 35| 8.0|Europe|     0|\n",
      "+-----------+--------+------+---+----+------+------+\n",
      "\n"
     ]
    }
   ],
   "source": [
    "df.withColumn('PClass', lit(0)).show()"
   ]
  },
  {
   "cell_type": "code",
   "execution_count": 22,
   "metadata": {},
   "outputs": [
    {
     "name": "stdout",
     "output_type": "stream",
     "text": [
      "+-----------+--------+------+---+----+------+-------+\n",
      "|PassangerId|    Name|   Sex|Age|Fare|Origin|Agefare|\n",
      "+-----------+--------+------+---+----+------+-------+\n",
      "|          1|    Owen|  male| 22| 7.3|    US|  160.6|\n",
      "|          2|Florence|female| 38|71.3|Europe| 2709.4|\n",
      "|          3|   Laina|female| 26| 7.9|    US|  205.4|\n",
      "|          4|    Lily|female| 35|53.1|    US| 1858.5|\n",
      "|          5| William|  male| 35| 8.0|Europe|  280.0|\n",
      "+-----------+--------+------+---+----+------+-------+\n",
      "\n"
     ]
    }
   ],
   "source": [
    "df.withColumn('Agefare', upper(df.Age*df.Fare)).show()"
   ]
  },
  {
   "cell_type": "code",
   "execution_count": 26,
   "metadata": {},
   "outputs": [
    {
     "name": "stdout",
     "output_type": "stream",
     "text": [
      "+------+-----+\n",
      "|   Sex|count|\n",
      "+------+-----+\n",
      "|  male|    2|\n",
      "|female|    3|\n",
      "+------+-----+\n",
      "\n"
     ]
    }
   ],
   "source": [
    "df.groupby('Sex').count().show()"
   ]
  },
  {
   "cell_type": "code",
   "execution_count": 28,
   "metadata": {},
   "outputs": [
    {
     "name": "stdout",
     "output_type": "stream",
     "text": [
      "+-----------+--------+------+---+----+------+\n",
      "|PassangerId|    Name|   Sex|Age|Fare|Origin|\n",
      "+-----------+--------+------+---+----+------+\n",
      "|          2|Florence|female| 38|71.3|Europe|\n",
      "|          3|   Laina|female| 26| 7.9|    US|\n",
      "|          4|    Lily|female| 35|53.1|    US|\n",
      "+-----------+--------+------+---+----+------+\n",
      "\n"
     ]
    }
   ],
   "source": [
    "df.filter(df.Sex == 'female').show()"
   ]
  },
  {
   "cell_type": "code",
   "execution_count": 31,
   "metadata": {},
   "outputs": [
    {
     "name": "stdout",
     "output_type": "stream",
     "text": [
      "+-----------+--------+------+---+----+------+\n",
      "|PassangerId|    Name|   Sex|Age|Fare|Origin|\n",
      "+-----------+--------+------+---+----+------+\n",
      "|          1|    Owen|  male| 22| 7.3|    US|\n",
      "|          3|   Laina|female| 26| 7.9|    US|\n",
      "|          5| William|  male| 35| 8.0|Europe|\n",
      "|          4|    Lily|female| 35|53.1|    US|\n",
      "|          2|Florence|female| 38|71.3|Europe|\n",
      "+-----------+--------+------+---+----+------+\n",
      "\n"
     ]
    }
   ],
   "source": [
    "df.orderBy(df.Age).show()"
   ]
  },
  {
   "cell_type": "code",
   "execution_count": 42,
   "metadata": {},
   "outputs": [
    {
     "name": "stdout",
     "output_type": "stream",
     "text": [
      "+------+-----+\n",
      "|Origin|count|\n",
      "+------+-----+\n",
      "|    US|    3|\n",
      "|Europe|    2|\n",
      "+------+-----+\n",
      "\n"
     ]
    }
   ],
   "source": [
    "df.groupBy('Origin').count().orderBy(\"count\",ascending=False).show()"
   ]
  },
  {
   "cell_type": "code",
   "execution_count": null,
   "metadata": {},
   "outputs": [],
   "source": []
  }
 ],
 "metadata": {
  "kernelspec": {
   "display_name": "Python 3",
   "language": "python",
   "name": "python3"
  },
  "language_info": {
   "codemirror_mode": {
    "name": "ipython",
    "version": 3
   },
   "file_extension": ".py",
   "mimetype": "text/x-python",
   "name": "python",
   "nbconvert_exporter": "python",
   "pygments_lexer": "ipython3",
   "version": "3.8.10"
  }
 },
 "nbformat": 4,
 "nbformat_minor": 4
}
