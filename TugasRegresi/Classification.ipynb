{
 "cells": [
  {
   "cell_type": "code",
   "execution_count": 1,
   "metadata": {},
   "outputs": [
    {
     "data": {
      "text/html": [
       "<style>pre { white-space: pre !important; }</style>"
      ],
      "text/plain": [
       "<IPython.core.display.HTML object>"
      ]
     },
     "metadata": {},
     "output_type": "display_data"
    }
   ],
   "source": [
    "from IPython.display import display, HTML\n",
    "display(HTML(\"<style>pre { white-space: pre !important; }</style>\"))"
   ]
  },
  {
   "cell_type": "code",
   "execution_count": 2,
   "metadata": {},
   "outputs": [],
   "source": [
    "from pyspark.sql import SparkSession\n",
    "spark = SparkSession.builder.getOrCreate()\n",
    "data = spark.read.csv('./titanic.csv', inferSchema=True, header=True)"
   ]
  },
  {
   "cell_type": "code",
   "execution_count": 3,
   "metadata": {},
   "outputs": [
    {
     "name": "stdout",
     "output_type": "stream",
     "text": [
      "+-----------+--------+------+--------------------+------+----+-----+-----+----------------+-------+-----+--------+\n",
      "|PassengerId|Survived|Pclass|                Name|Gender| Age|SibSp|Parch|          Ticket|   Fare|Cabin|Embarked|\n",
      "+-----------+--------+------+--------------------+------+----+-----+-----+----------------+-------+-----+--------+\n",
      "|          1|       0|     3|Braund, Mr. Owen ...|  male|22.0|    1|    0|       A/5 21171|   7.25| null|       S|\n",
      "|          2|       1|     1|Cumings, Mrs. Joh...|female|38.0|    1|    0|        PC 17599|71.2833|  C85|       C|\n",
      "|          3|       1|     3|Heikkinen, Miss. ...|female|26.0|    0|    0|STON/O2. 3101282|  7.925| null|       S|\n",
      "|          4|       1|     1|Futrelle, Mrs. Ja...|female|35.0|    1|    0|          113803|   53.1| C123|       S|\n",
      "|          5|       0|     3|Allen, Mr. Willia...|  male|35.0|    0|    0|          373450|   8.05| null|       S|\n",
      "|          6|       0|     3|    Moran, Mr. James|  male|null|    0|    0|          330877| 8.4583| null|       Q|\n",
      "|          7|       0|     1|McCarthy, Mr. Tim...|  male|54.0|    0|    0|           17463|51.8625|  E46|       S|\n",
      "|          8|       0|     3|Palsson, Master. ...|  male| 2.0|    3|    1|          349909| 21.075| null|       S|\n",
      "|          9|       1|     3|Johnson, Mrs. Osc...|female|27.0|    0|    2|          347742|11.1333| null|       S|\n",
      "|         10|       1|     2|Nasser, Mrs. Nich...|female|14.0|    1|    0|          237736|30.0708| null|       C|\n",
      "|         11|       1|     3|Sandstrom, Miss. ...|female| 4.0|    1|    1|         PP 9549|   16.7|   G6|       S|\n",
      "|         12|       1|     1|Bonnell, Miss. El...|female|58.0|    0|    0|          113783|  26.55| C103|       S|\n",
      "|         13|       0|     3|Saundercock, Mr. ...|  male|20.0|    0|    0|       A/5. 2151|   8.05| null|       S|\n",
      "|         14|       0|     3|Andersson, Mr. An...|  male|39.0|    1|    5|          347082| 31.275| null|       S|\n",
      "|         15|       0|     3|Vestrom, Miss. Hu...|female|14.0|    0|    0|          350406| 7.8542| null|       S|\n",
      "|         16|       1|     2|Hewlett, Mrs. (Ma...|female|55.0|    0|    0|          248706|   16.0| null|       S|\n",
      "|         17|       0|     3|Rice, Master. Eugene|  male| 2.0|    4|    1|          382652| 29.125| null|       Q|\n",
      "|         18|       1|     2|Williams, Mr. Cha...|  male|null|    0|    0|          244373|   13.0| null|       S|\n",
      "|         19|       0|     3|Vander Planke, Mr...|female|31.0|    1|    0|          345763|   18.0| null|       S|\n",
      "|         20|       1|     3|Masselmani, Mrs. ...|female|null|    0|    0|            2649|  7.225| null|       C|\n",
      "+-----------+--------+------+--------------------+------+----+-----+-----+----------------+-------+-----+--------+\n",
      "only showing top 20 rows\n",
      "\n"
     ]
    }
   ],
   "source": [
    "data.show()"
   ]
  },
  {
   "cell_type": "code",
   "execution_count": 4,
   "metadata": {},
   "outputs": [],
   "source": [
    "data = data.select(['Survived', 'Pclass', 'Gender', 'Age', 'SibSp', 'Parch', 'Fare'])"
   ]
  },
  {
   "cell_type": "code",
   "execution_count": 5,
   "metadata": {},
   "outputs": [
    {
     "name": "stdout",
     "output_type": "stream",
     "text": [
      "+--------+------+------+----+-----+-----+-------+-----------------+\n",
      "|Survived|Pclass|Gender| Age|SibSp|Parch|   Fare|       AgeImputed|\n",
      "+--------+------+------+----+-----+-----+-------+-----------------+\n",
      "|       0|     3|  male|22.0|    1|    0|   7.25|             22.0|\n",
      "|       1|     1|female|38.0|    1|    0|71.2833|             38.0|\n",
      "|       1|     3|female|26.0|    0|    0|  7.925|             26.0|\n",
      "|       1|     1|female|35.0|    1|    0|   53.1|             35.0|\n",
      "|       0|     3|  male|35.0|    0|    0|   8.05|             35.0|\n",
      "|       0|     3|  male|null|    0|    0| 8.4583|29.69911764705882|\n",
      "|       0|     1|  male|54.0|    0|    0|51.8625|             54.0|\n",
      "|       0|     3|  male| 2.0|    3|    1| 21.075|              2.0|\n",
      "|       1|     3|female|27.0|    0|    2|11.1333|             27.0|\n",
      "|       1|     2|female|14.0|    1|    0|30.0708|             14.0|\n",
      "|       1|     3|female| 4.0|    1|    1|   16.7|              4.0|\n",
      "|       1|     1|female|58.0|    0|    0|  26.55|             58.0|\n",
      "|       0|     3|  male|20.0|    0|    0|   8.05|             20.0|\n",
      "|       0|     3|  male|39.0|    1|    5| 31.275|             39.0|\n",
      "|       0|     3|female|14.0|    0|    0| 7.8542|             14.0|\n",
      "|       1|     2|female|55.0|    0|    0|   16.0|             55.0|\n",
      "|       0|     3|  male| 2.0|    4|    1| 29.125|              2.0|\n",
      "|       1|     2|  male|null|    0|    0|   13.0|29.69911764705882|\n",
      "|       0|     3|female|31.0|    1|    0|   18.0|             31.0|\n",
      "|       1|     3|female|null|    0|    0|  7.225|29.69911764705882|\n",
      "+--------+------+------+----+-----+-----+-------+-----------------+\n",
      "only showing top 20 rows\n",
      "\n"
     ]
    }
   ],
   "source": [
    "from pyspark.ml.feature import Imputer\n",
    "imputer = Imputer(strategy='mean', inputCols=['Age'], outputCols=['AgeImputed'])\n",
    "imputer_model = imputer.fit(data)\n",
    "data = imputer_model.transform(data)\n",
    "data.show()"
   ]
  },
  {
   "cell_type": "code",
   "execution_count": 6,
   "metadata": {},
   "outputs": [],
   "source": [
    "from pyspark.ml.feature import StringIndexer\n",
    "gender_indexer = StringIndexer(inputCol='Gender', outputCol='GenderIndexed')\n",
    "gender_indexer_model = gender_indexer.fit(data)\n",
    "data = gender_indexer_model.transform(data)"
   ]
  },
  {
   "cell_type": "code",
   "execution_count": 7,
   "metadata": {},
   "outputs": [
    {
     "name": "stdout",
     "output_type": "stream",
     "text": [
      "+--------+------+------+----+-----+-----+-------+-----------------+-------------+\n",
      "|Survived|Pclass|Gender| Age|SibSp|Parch|   Fare|       AgeImputed|GenderIndexed|\n",
      "+--------+------+------+----+-----+-----+-------+-----------------+-------------+\n",
      "|       0|     3|  male|22.0|    1|    0|   7.25|             22.0|          0.0|\n",
      "|       1|     1|female|38.0|    1|    0|71.2833|             38.0|          1.0|\n",
      "|       1|     3|female|26.0|    0|    0|  7.925|             26.0|          1.0|\n",
      "|       1|     1|female|35.0|    1|    0|   53.1|             35.0|          1.0|\n",
      "|       0|     3|  male|35.0|    0|    0|   8.05|             35.0|          0.0|\n",
      "|       0|     3|  male|null|    0|    0| 8.4583|29.69911764705882|          0.0|\n",
      "|       0|     1|  male|54.0|    0|    0|51.8625|             54.0|          0.0|\n",
      "|       0|     3|  male| 2.0|    3|    1| 21.075|              2.0|          0.0|\n",
      "|       1|     3|female|27.0|    0|    2|11.1333|             27.0|          1.0|\n",
      "|       1|     2|female|14.0|    1|    0|30.0708|             14.0|          1.0|\n",
      "|       1|     3|female| 4.0|    1|    1|   16.7|              4.0|          1.0|\n",
      "|       1|     1|female|58.0|    0|    0|  26.55|             58.0|          1.0|\n",
      "|       0|     3|  male|20.0|    0|    0|   8.05|             20.0|          0.0|\n",
      "|       0|     3|  male|39.0|    1|    5| 31.275|             39.0|          0.0|\n",
      "|       0|     3|female|14.0|    0|    0| 7.8542|             14.0|          1.0|\n",
      "|       1|     2|female|55.0|    0|    0|   16.0|             55.0|          1.0|\n",
      "|       0|     3|  male| 2.0|    4|    1| 29.125|              2.0|          0.0|\n",
      "|       1|     2|  male|null|    0|    0|   13.0|29.69911764705882|          0.0|\n",
      "|       0|     3|female|31.0|    1|    0|   18.0|             31.0|          1.0|\n",
      "|       1|     3|female|null|    0|    0|  7.225|29.69911764705882|          1.0|\n",
      "+--------+------+------+----+-----+-----+-------+-----------------+-------------+\n",
      "only showing top 20 rows\n",
      "\n"
     ]
    }
   ],
   "source": [
    "data.show()"
   ]
  },
  {
   "cell_type": "code",
   "execution_count": 8,
   "metadata": {},
   "outputs": [],
   "source": [
    "from pyspark.ml.feature import VectorAssembler\n",
    "assembler = VectorAssembler(inputCols=['Pclass', 'SibSp', 'Parch', 'Fare', 'AgeImputed', 'GenderIndexed'], outputCol='features')\n",
    "data = assembler.transform(data)"
   ]
  },
  {
   "cell_type": "code",
   "execution_count": 9,
   "metadata": {},
   "outputs": [
    {
     "name": "stdout",
     "output_type": "stream",
     "text": [
      "+--------+------+------+----+-----+-----+-------+-----------------+-------------+--------------------+\n",
      "|Survived|Pclass|Gender| Age|SibSp|Parch|   Fare|       AgeImputed|GenderIndexed|            features|\n",
      "+--------+------+------+----+-----+-----+-------+-----------------+-------------+--------------------+\n",
      "|       0|     3|  male|22.0|    1|    0|   7.25|             22.0|          0.0|[3.0,1.0,0.0,7.25...|\n",
      "|       1|     1|female|38.0|    1|    0|71.2833|             38.0|          1.0|[1.0,1.0,0.0,71.2...|\n",
      "|       1|     3|female|26.0|    0|    0|  7.925|             26.0|          1.0|[3.0,0.0,0.0,7.92...|\n",
      "|       1|     1|female|35.0|    1|    0|   53.1|             35.0|          1.0|[1.0,1.0,0.0,53.1...|\n",
      "|       0|     3|  male|35.0|    0|    0|   8.05|             35.0|          0.0|[3.0,0.0,0.0,8.05...|\n",
      "|       0|     3|  male|null|    0|    0| 8.4583|29.69911764705882|          0.0|[3.0,0.0,0.0,8.45...|\n",
      "|       0|     1|  male|54.0|    0|    0|51.8625|             54.0|          0.0|[1.0,0.0,0.0,51.8...|\n",
      "|       0|     3|  male| 2.0|    3|    1| 21.075|              2.0|          0.0|[3.0,3.0,1.0,21.0...|\n",
      "|       1|     3|female|27.0|    0|    2|11.1333|             27.0|          1.0|[3.0,0.0,2.0,11.1...|\n",
      "|       1|     2|female|14.0|    1|    0|30.0708|             14.0|          1.0|[2.0,1.0,0.0,30.0...|\n",
      "|       1|     3|female| 4.0|    1|    1|   16.7|              4.0|          1.0|[3.0,1.0,1.0,16.7...|\n",
      "|       1|     1|female|58.0|    0|    0|  26.55|             58.0|          1.0|[1.0,0.0,0.0,26.5...|\n",
      "|       0|     3|  male|20.0|    0|    0|   8.05|             20.0|          0.0|[3.0,0.0,0.0,8.05...|\n",
      "|       0|     3|  male|39.0|    1|    5| 31.275|             39.0|          0.0|[3.0,1.0,5.0,31.2...|\n",
      "|       0|     3|female|14.0|    0|    0| 7.8542|             14.0|          1.0|[3.0,0.0,0.0,7.85...|\n",
      "|       1|     2|female|55.0|    0|    0|   16.0|             55.0|          1.0|[2.0,0.0,0.0,16.0...|\n",
      "|       0|     3|  male| 2.0|    4|    1| 29.125|              2.0|          0.0|[3.0,4.0,1.0,29.1...|\n",
      "|       1|     2|  male|null|    0|    0|   13.0|29.69911764705882|          0.0|[2.0,0.0,0.0,13.0...|\n",
      "|       0|     3|female|31.0|    1|    0|   18.0|             31.0|          1.0|[3.0,1.0,0.0,18.0...|\n",
      "|       1|     3|female|null|    0|    0|  7.225|29.69911764705882|          1.0|[3.0,0.0,0.0,7.22...|\n",
      "+--------+------+------+----+-----+-----+-------+-----------------+-------------+--------------------+\n",
      "only showing top 20 rows\n",
      "\n"
     ]
    }
   ],
   "source": [
    "data.show()"
   ]
  },
  {
   "cell_type": "code",
   "execution_count": 10,
   "metadata": {},
   "outputs": [],
   "source": [
    "from pyspark.ml.classification import RandomForestClassifier\n",
    "algo = RandomForestClassifier(featuresCol='features', labelCol='Survived')\n",
    "model = algo.fit(data)"
   ]
  },
  {
   "cell_type": "code",
   "execution_count": 11,
   "metadata": {},
   "outputs": [],
   "source": [
    "predictions = model.transform(data)"
   ]
  },
  {
   "cell_type": "code",
   "execution_count": 12,
   "metadata": {},
   "outputs": [
    {
     "name": "stdout",
     "output_type": "stream",
     "text": [
      "+--------+----------+--------------------+\n",
      "|Survived|prediction|         probability|\n",
      "+--------+----------+--------------------+\n",
      "|       0|       0.0|[0.88581129986537...|\n",
      "|       1|       1.0|[0.02965627489007...|\n",
      "|       1|       1.0|[0.46283114188206...|\n",
      "|       1|       1.0|[0.02965627489007...|\n",
      "|       0|       0.0|[0.88274431920774...|\n",
      "|       0|       0.0|[0.87604647878125...|\n",
      "|       0|       0.0|[0.74960596821151...|\n",
      "|       0|       0.0|[0.75383132908710...|\n",
      "|       1|       1.0|[0.44610561224946...|\n",
      "|       1|       1.0|[0.08766474563101...|\n",
      "|       1|       1.0|[0.34366208799566...|\n",
      "|       1|       1.0|[0.12087878691075...|\n",
      "|       0|       0.0|[0.87604647878125...|\n",
      "|       0|       0.0|[0.84226301203838...|\n",
      "|       0|       1.0|[0.36660823393805...|\n",
      "|       1|       1.0|[0.22708347214493...|\n",
      "|       0|       0.0|[0.79547900240144...|\n",
      "|       1|       0.0|[0.86199199264428...|\n",
      "|       0|       1.0|[0.48931177170447...|\n",
      "|       1|       1.0|[0.23818349688173...|\n",
      "+--------+----------+--------------------+\n",
      "only showing top 20 rows\n",
      "\n"
     ]
    }
   ],
   "source": [
    "predictions.select(['Survived','prediction', 'probability']).show()"
   ]
  },
  {
   "cell_type": "code",
   "execution_count": 13,
   "metadata": {},
   "outputs": [],
   "source": [
    "from pyspark.ml.evaluation import BinaryClassificationEvaluator\n",
    "evaluator = BinaryClassificationEvaluator(labelCol='Survived', metricName='areaUnderROC')"
   ]
  },
  {
   "cell_type": "code",
   "execution_count": 14,
   "metadata": {},
   "outputs": [
    {
     "data": {
      "text/plain": [
       "0.8975889176493146"
      ]
     },
     "execution_count": 14,
     "metadata": {},
     "output_type": "execute_result"
    }
   ],
   "source": [
    "evaluator.evaluate(predictions)"
   ]
  },
  {
   "cell_type": "code",
   "execution_count": 15,
   "metadata": {},
   "outputs": [],
   "source": [
    "y_true = predictions.select(['Survived']).collect()\n",
    "y_pred = predictions.select(['prediction']).collect()"
   ]
  },
  {
   "cell_type": "code",
   "execution_count": 16,
   "metadata": {},
   "outputs": [],
   "source": [
    "from sklearn.metrics import classification_report, confusion_matrix"
   ]
  },
  {
   "cell_type": "code",
   "execution_count": 17,
   "metadata": {},
   "outputs": [
    {
     "name": "stdout",
     "output_type": "stream",
     "text": [
      "              precision    recall  f1-score   support\n",
      "\n",
      "           0       0.83      0.94      0.88       549\n",
      "           1       0.88      0.69      0.78       342\n",
      "\n",
      "    accuracy                           0.85       891\n",
      "   macro avg       0.86      0.82      0.83       891\n",
      "weighted avg       0.85      0.85      0.84       891\n",
      "\n"
     ]
    }
   ],
   "source": [
    "print(classification_report(y_true, y_pred))"
   ]
  },
  {
   "cell_type": "code",
   "execution_count": 18,
   "metadata": {},
   "outputs": [
    {
     "name": "stdout",
     "output_type": "stream",
     "text": [
      "[[518  31]\n",
      " [106 236]]\n"
     ]
    }
   ],
   "source": [
    "print(confusion_matrix(y_true, y_pred))"
   ]
  },
  {
   "cell_type": "code",
   "execution_count": null,
   "metadata": {},
   "outputs": [],
   "source": []
  },
  {
   "cell_type": "code",
   "execution_count": null,
   "metadata": {},
   "outputs": [],
   "source": []
  }
 ],
 "metadata": {
  "kernelspec": {
   "display_name": "Python 3",
   "language": "python",
   "name": "python3"
  },
  "language_info": {
   "codemirror_mode": {
    "name": "ipython",
    "version": 3
   },
   "file_extension": ".py",
   "mimetype": "text/x-python",
   "name": "python",
   "nbconvert_exporter": "python",
   "pygments_lexer": "ipython3",
   "version": "3.8.10"
  }
 },
 "nbformat": 4,
 "nbformat_minor": 4
}
