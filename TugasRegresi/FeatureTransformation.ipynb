{
 "cells": [
  {
   "cell_type": "markdown",
   "metadata": {},
   "source": [
    "# FEATURE TRANSFORMATION\n",
    "\n",
    "Feature tansformation adalah fungsi yang digunkan untuk merubah *feature* dari satu repesentasi ke representasi lainnnya. Beberapa sebab kita harus merubah *feature*, diantaranya :\n",
    "1. Tipe data tidak sesuai dengan algoritma *machine learning*, contoh : text, kategori.\n",
    "2. Nilai dari *feature* mungkin menimbulkan masalah dalam proses *learning*, contoh : skalanya berbeda.\n",
    "3. Mengurangi jumlah *feature* untuk mem-plot dan memvisualisasikan data, meningkatkan kecepatan training atau meningkatkan akurasi dari model tertentu.\n",
    "\n",
    "## Daftar Isi  :\n",
    "### 1. Penanganan Variabel Berbentuk Kaegori.\n",
    "### 2. Penskalaan *Feature*\n",
    "### 3. Dasar Analisis Komponen"
   ]
  },
  {
   "cell_type": "markdown",
   "metadata": {},
   "source": [
    "#### Pendahuluan/Persiapan\n",
    "Membuat tampilan tabel dapat di-*scroll* horizontal agar lebih rapi."
   ]
  },
  {
   "cell_type": "code",
   "execution_count": 1,
   "metadata": {},
   "outputs": [
    {
     "data": {
      "text/html": [
       "<style>pre { white-space: pre !important; }</style>"
      ],
      "text/plain": [
       "<IPython.core.display.HTML object>"
      ]
     },
     "metadata": {},
     "output_type": "display_data"
    }
   ],
   "source": [
    "from IPython.display import display, HTML\n",
    "display(HTML(\"<style>pre { white-space: pre !important; }</style>\"))"
   ]
  },
  {
   "cell_type": "markdown",
   "metadata": {},
   "source": [
    "## 1. Penanganan Variabel berbentuk Kategori\n",
    "\n",
    "#### Variabel berbentuk Kategori\n",
    "Dapat dikelompokan menjadi dua tipe, yaitu :\n",
    "1. Nominal --> tidak dapat diurutkan, contoh : gender, warna.\n",
    "2. Ordinal --> dapat diurutkan, contoh : ukuran baju, ranking, nilai.\n",
    "\n",
    "Machine Learning tidak dapat menangani data berbentuk kategori sehingga perlu dirubah menjadi nilai dengan format yang lebih relevan."
   ]
  },
  {
   "cell_type": "markdown",
   "metadata": {},
   "source": [
    "#### Menyiapkan *Environment* : import pyspark, membuat *spark session*, dan memuat serta menampilakn data"
   ]
  },
  {
   "cell_type": "code",
   "execution_count": 2,
   "metadata": {},
   "outputs": [
    {
     "name": "stdout",
     "output_type": "stream",
     "text": [
      "+---+------+\n",
      "| id| color|\n",
      "+---+------+\n",
      "|  1|   red|\n",
      "|  2|  blue|\n",
      "|  3|orange|\n",
      "|  4| white|\n",
      "|  5|   red|\n",
      "|  6|orange|\n",
      "|  7|   red|\n",
      "|  8| white|\n",
      "|  9|   red|\n",
      "+---+------+\n",
      "\n"
     ]
    }
   ],
   "source": [
    "from pyspark.sql import SparkSession\n",
    "spark = SparkSession.builder.getOrCreate()\n",
    "data = spark.read.csv('./colors.csv', header=True, inferSchema=True)\n",
    "data.show()"
   ]
  },
  {
   "cell_type": "markdown",
   "metadata": {},
   "source": [
    "Dikarenakan data tersebut berbentuk kategori, sehingga perlu merubah formatnya. Kita akan mengubahnya dengan metode :\n",
    "### a. Indexing\n",
    "### b. One Hot Encoding\n",
    "# ---------------------------------------------------------------------------"
   ]
  },
  {
   "cell_type": "markdown",
   "metadata": {},
   "source": [
    "### a. String Indexing\n",
    "--> Mengubah kategori menjadi angka."
   ]
  },
  {
   "cell_type": "markdown",
   "metadata": {},
   "source": [
    "Pertama, definisikan StringIndexer."
   ]
  },
  {
   "cell_type": "code",
   "execution_count": 3,
   "metadata": {},
   "outputs": [],
   "source": [
    "from pyspark.ml.feature import StringIndexer\n",
    "indexer = StringIndexer(inputCol=\"color\", outputCol=\"color_indexed\")"
   ]
  },
  {
   "cell_type": "markdown",
   "metadata": {},
   "source": [
    "Selanjutnya, panggil metode fit() untuk menginisiasi proses *learning*.\n",
    "Nilai kembalian dari indexer_model adalah sebuah objek bertipe **Transformer**."
   ]
  },
  {
   "cell_type": "code",
   "execution_count": 4,
   "metadata": {},
   "outputs": [],
   "source": [
    "indexer_model = indexer.fit(data)"
   ]
  },
  {
   "cell_type": "markdown",
   "metadata": {},
   "source": [
    "Setelah itu, melakukan transformasi dengan memanggil transform().\n",
    "Dapat dilihat kolom 'color_indexed' sudah ditambahkan."
   ]
  },
  {
   "cell_type": "code",
   "execution_count": 5,
   "metadata": {},
   "outputs": [
    {
     "name": "stdout",
     "output_type": "stream",
     "text": [
      "+---+------+-------------+\n",
      "| id| color|color_indexed|\n",
      "+---+------+-------------+\n",
      "|  1|   red|          0.0|\n",
      "|  2|  blue|          3.0|\n",
      "|  3|orange|          1.0|\n",
      "|  4| white|          2.0|\n",
      "|  5|   red|          0.0|\n",
      "|  6|orange|          1.0|\n",
      "|  7|   red|          0.0|\n",
      "|  8| white|          2.0|\n",
      "|  9|   red|          0.0|\n",
      "+---+------+-------------+\n",
      "\n"
     ]
    }
   ],
   "source": [
    "indexed_data= indexer_model.transform(data)\n",
    "# Menampilkan data\n",
    "indexed_data.show()"
   ]
  },
  {
   "cell_type": "markdown",
   "metadata": {},
   "source": [
    "Akan tetapi, masih terdapat masalah yaitu angka tersebut terkesan ordinal. Oleh karena itu, kita dapat menggunkan teknik lain yaitu **One Hot Encoding**."
   ]
  },
  {
   "cell_type": "markdown",
   "metadata": {},
   "source": [
    "### b. One Hot Encoding\n",
    "\n",
    "Supaya kategori data tidak terkesan berurutan, kita melakukan :\n",
    "1. Memecah kolom kategori menjadi sebanyak n kolom. Dimana n merupakan jumlah dari kategori unik di dalam kolom awal.\n",
    "2. Men-*assign* nilai binari kepada setiap kolom yang merepresentasikan keberadaan dari warna dari data."
   ]
  },
  {
   "cell_type": "markdown",
   "metadata": {},
   "source": [
    "Pertama, import OneHotEncoder dan buat sebuah variabel estimator."
   ]
  },
  {
   "cell_type": "code",
   "execution_count": 6,
   "metadata": {},
   "outputs": [],
   "source": [
    "from pyspark.ml.feature import OneHotEncoder\n",
    "ohe = OneHotEncoder(inputCols=[\"color_indexed\"], outputCols=[\"color_ohe\"])"
   ]
  },
  {
   "cell_type": "markdown",
   "metadata": {},
   "source": [
    "Sekarang, kita melatih estimator pada data untuk mempelajari berapa banyak kategori yang perlu di-encode."
   ]
  },
  {
   "cell_type": "code",
   "execution_count": 7,
   "metadata": {},
   "outputs": [],
   "source": [
    "ohe_model = ohe.fit(indexed_data)"
   ]
  },
  {
   "cell_type": "markdown",
   "metadata": {},
   "source": [
    "Saatnya mengaplikasikan pada data."
   ]
  },
  {
   "cell_type": "code",
   "execution_count": 8,
   "metadata": {},
   "outputs": [
    {
     "name": "stdout",
     "output_type": "stream",
     "text": [
      "+---+------+-------------+-------------+\n",
      "| id| color|color_indexed|    color_ohe|\n",
      "+---+------+-------------+-------------+\n",
      "|  1|   red|          0.0|(3,[0],[1.0])|\n",
      "|  2|  blue|          3.0|    (3,[],[])|\n",
      "|  3|orange|          1.0|(3,[1],[1.0])|\n",
      "|  4| white|          2.0|(3,[2],[1.0])|\n",
      "|  5|   red|          0.0|(3,[0],[1.0])|\n",
      "|  6|orange|          1.0|(3,[1],[1.0])|\n",
      "|  7|   red|          0.0|(3,[0],[1.0])|\n",
      "|  8| white|          2.0|(3,[2],[1.0])|\n",
      "|  9|   red|          0.0|(3,[0],[1.0])|\n",
      "+---+------+-------------+-------------+\n",
      "\n"
     ]
    }
   ],
   "source": [
    "encoded_data = ohe_model.transform(indexed_data)\n",
    "encoded_data.show()"
   ]
  },
  {
   "cell_type": "markdown",
   "metadata": {},
   "source": [
    "Kolom tersebut merepresentasikan DenseVektor dari tipe data yang digunakan untuk mengurangi penyimpanan. \n",
    "Contohnya (3,[0],[1]) :\n",
    "3 --> kita memiliki array dengan 3 nilai, dimana kita memiliki nilai 1 pada index 0 dan nilai 0 pada indeks lainnya."
   ]
  },
  {
   "cell_type": "markdown",
   "metadata": {},
   "source": [
    "##### OPTIONAL\n",
    "\n",
    "--> Anda bisa mengisi parameter, dropLast=False jika ingin Spark tidak menghilangkan kolom terakhirnya."
   ]
  },
  {
   "cell_type": "code",
   "execution_count": 9,
   "metadata": {},
   "outputs": [],
   "source": [
    "ohe = OneHotEncoder(inputCols=[\"color_indexed\"], outputCols=[\"color_ohe\"], dropLast=False)"
   ]
  },
  {
   "cell_type": "markdown",
   "metadata": {},
   "source": [
    "## 2. Feature Scaling\n",
    "Feature Scaling berfungsi untuk menormalisasikan data agar tidak ada data yang mendominasi dari data lain pada algoritma tertentu, contohnya KMeans.\n",
    "Kali ini kita akan bekerja pada dataset 'Wine'."
   ]
  },
  {
   "cell_type": "code",
   "execution_count": 10,
   "metadata": {},
   "outputs": [
    {
     "name": "stdout",
     "output_type": "stream",
     "text": [
      "+---+-----+----+----+----+---+----+----+----+----+----+----+----+----+\n",
      "|_c0|  _c1| _c2| _c3| _c4|_c5| _c6| _c7| _c8| _c9|_c10|_c11|_c12|_c13|\n",
      "+---+-----+----+----+----+---+----+----+----+----+----+----+----+----+\n",
      "|  1|14.23|1.71|2.43|15.6|127| 2.8|3.06|0.28|2.29|5.64|1.04|3.92|1065|\n",
      "|  1| 13.2|1.78|2.14|11.2|100|2.65|2.76|0.26|1.28|4.38|1.05| 3.4|1050|\n",
      "|  1|13.16|2.36|2.67|18.6|101| 2.8|3.24| 0.3|2.81|5.68|1.03|3.17|1185|\n",
      "|  1|14.37|1.95| 2.5|16.8|113|3.85|3.49|0.24|2.18| 7.8|0.86|3.45|1480|\n",
      "|  1|13.24|2.59|2.87|21.0|118| 2.8|2.69|0.39|1.82|4.32|1.04|2.93| 735|\n",
      "|  1| 14.2|1.76|2.45|15.2|112|3.27|3.39|0.34|1.97|6.75|1.05|2.85|1450|\n",
      "|  1|14.39|1.87|2.45|14.6| 96| 2.5|2.52| 0.3|1.98|5.25|1.02|3.58|1290|\n",
      "|  1|14.06|2.15|2.61|17.6|121| 2.6|2.51|0.31|1.25|5.05|1.06|3.58|1295|\n",
      "|  1|14.83|1.64|2.17|14.0| 97| 2.8|2.98|0.29|1.98| 5.2|1.08|2.85|1045|\n",
      "|  1|13.86|1.35|2.27|16.0| 98|2.98|3.15|0.22|1.85|7.22|1.01|3.55|1045|\n",
      "|  1| 14.1|2.16| 2.3|18.0|105|2.95|3.32|0.22|2.38|5.75|1.25|3.17|1510|\n",
      "|  1|14.12|1.48|2.32|16.8| 95| 2.2|2.43|0.26|1.57| 5.0|1.17|2.82|1280|\n",
      "|  1|13.75|1.73|2.41|16.0| 89| 2.6|2.76|0.29|1.81| 5.6|1.15| 2.9|1320|\n",
      "|  1|14.75|1.73|2.39|11.4| 91| 3.1|3.69|0.43|2.81| 5.4|1.25|2.73|1150|\n",
      "|  1|14.38|1.87|2.38|12.0|102| 3.3|3.64|0.29|2.96| 7.5| 1.2| 3.0|1547|\n",
      "|  1|13.63|1.81| 2.7|17.2|112|2.85|2.91| 0.3|1.46| 7.3|1.28|2.88|1310|\n",
      "|  1| 14.3|1.92|2.72|20.0|120| 2.8|3.14|0.33|1.97| 6.2|1.07|2.65|1280|\n",
      "|  1|13.83|1.57|2.62|20.0|115|2.95| 3.4| 0.4|1.72| 6.6|1.13|2.57|1130|\n",
      "|  1|14.19|1.59|2.48|16.5|108| 3.3|3.93|0.32|1.86| 8.7|1.23|2.82|1680|\n",
      "|  1|13.64| 3.1|2.56|15.2|116| 2.7|3.03|0.17|1.66| 5.1|0.96|3.36| 845|\n",
      "+---+-----+----+----+----+---+----+----+----+----+----+----+----+----+\n",
      "only showing top 20 rows\n",
      "\n"
     ]
    }
   ],
   "source": [
    "data = spark.read.csv('./wine.data', header=False, inferSchema=True)\n",
    "data.show()"
   ]
  },
  {
   "cell_type": "code",
   "execution_count": 11,
   "metadata": {},
   "outputs": [
    {
     "name": "stdout",
     "output_type": "stream",
     "text": [
      "+-------+------------------+------------------+------------------+------------------+-----------------+------------------+------------------+------------------+-------------------+------------------+-----------------+-------------------+------------------+-----------------+\n",
      "|summary|               _c0|               _c1|               _c2|               _c3|              _c4|               _c5|               _c6|               _c7|                _c8|               _c9|             _c10|               _c11|              _c12|             _c13|\n",
      "+-------+------------------+------------------+------------------+------------------+-----------------+------------------+------------------+------------------+-------------------+------------------+-----------------+-------------------+------------------+-----------------+\n",
      "|  count|               178|               178|               178|               178|              178|               178|               178|               178|                178|               178|              178|                178|               178|              178|\n",
      "|   mean|1.9382022471910112|13.000617977528083| 2.336348314606741|2.3665168539325854|19.49494382022472| 99.74157303370787| 2.295112359550562|2.0292696629213474|0.36185393258426973|1.5908988764044953|5.058089882022473| 0.9574494382022468|2.6116853932584254|746.8932584269663|\n",
      "| stddev|0.7750349899850563| 0.811826538005858|1.1171460976144625|0.2743440090608148|3.339563767173504|14.282483515295652|0.6258510488339892|0.9988586850169471|0.12445334029667941|0.5723588626747612|2.318285871822413|0.22857156582982324|0.7099904287650503|314.9074742768492|\n",
      "|    min|                 1|             11.03|              0.74|              1.36|             10.6|                70|              0.98|              0.34|               0.13|              0.41|             1.28|               0.48|              1.27|              278|\n",
      "|    max|                 3|             14.83|               5.8|              3.23|             30.0|               162|              3.88|              5.08|               0.66|              3.58|             13.0|               1.71|               4.0|             1680|\n",
      "+-------+------------------+------------------+------------------+------------------+-----------------+------------------+------------------+------------------+-------------------+------------------+-----------------+-------------------+------------------+-----------------+\n",
      "\n"
     ]
    }
   ],
   "source": [
    "data.describe().show() "
   ]
  },
  {
   "cell_type": "markdown",
   "metadata": {},
   "source": [
    "Mari kita lihat dataset kita. Dari hasil deskripsi tersebut dapat dilihat ke-inkonsistenan dalam skalanya."
   ]
  },
  {
   "cell_type": "markdown",
   "metadata": {},
   "source": [
    "*Scalers* diaplikasikan pada *Data Tipe Vektor*. Oleh karena itu, kita perlu mengumpulkan *feature* menggunakan **VectorAssembler** terlebih dahulu.\n",
    "\n",
    "Catatan : kita menghilangkan kolom _c0 dikarenakan kolom tersebut adalah kolom kategorikal."
   ]
  },
  {
   "cell_type": "markdown",
   "metadata": {},
   "source": [
    "### a. StandardScaler\n",
    "Metode ini melakukan standarisasi dari *feature*.\n",
    "Metode ini dilakukan dengan menghilangkan rata-rata dan melakukan pen-skalan ke unit standar deviasi dengan menggunakan *collumn-summary-statistics.*"
   ]
  },
  {
   "cell_type": "code",
   "execution_count": 12,
   "metadata": {},
   "outputs": [],
   "source": [
    "from pyspark.ml.feature import VectorAssembler\n",
    "assembler = VectorAssembler(inputCols=data.columns[1:], outputCol=\"features\")\n",
    "data_2 = assembler.transform(data)"
   ]
  },
  {
   "cell_type": "markdown",
   "metadata": {},
   "source": [
    "Dua parameter yang opsional yang dapat diambil :\n",
    "1. *withStd*: Men-skalakan data ke dalam unit standar deviasi. Dafult = True.\n",
    "2. *withMean*: Menengahkan data dengan rata-rata sebelum melakukan pen-skalaan..\n",
    "\n",
    "Untuk mendefinisikan StandardScaler :"
   ]
  },
  {
   "cell_type": "code",
   "execution_count": 13,
   "metadata": {},
   "outputs": [],
   "source": [
    "from pyspark.ml.feature import StandardScaler\n",
    "scaler = StandardScaler(inputCol=\"features\", outputCol=\"scaled_features\")"
   ]
  },
  {
   "cell_type": "markdown",
   "metadata": {},
   "source": [
    "Sekarang, mari memasang estimator kita ke dalam dataset."
   ]
  },
  {
   "cell_type": "code",
   "execution_count": 14,
   "metadata": {},
   "outputs": [],
   "source": [
    "scaler_model = scaler.fit(data_2)"
   ]
  },
  {
   "cell_type": "markdown",
   "metadata": {},
   "source": [
    "Akhirnya kita bisa mengaplikasikan transformasi kita pada data."
   ]
  },
  {
   "cell_type": "code",
   "execution_count": 15,
   "metadata": {},
   "outputs": [],
   "source": [
    "scaled_data = scaler_model.transform(data_2)"
   ]
  },
  {
   "cell_type": "markdown",
   "metadata": {},
   "source": [
    "### b. MinMaxScaler\n",
    "Sama seperti proses nomor satu, tetapi dengan nama kelas dan parameter yang berbeda.\n",
    "**MinMaxScaler** merubah nilai data ke dalam *range* spesifik ([0,1]) sebagai defaultnya."
   ]
  },
  {
   "cell_type": "code",
   "execution_count": 16,
   "metadata": {},
   "outputs": [],
   "source": [
    "from pyspark.ml.feature import MinMaxScaler\n",
    "scaler = MinMaxScaler(min=0, max=1, inputCol='features', outputCol='features_minmax')\n",
    "scaler_model = scaler.fit(data_2)\n",
    "data_3 = scaler_model.transform(data_2)"
   ]
  },
  {
   "cell_type": "markdown",
   "metadata": {},
   "source": [
    "## 3. Dasar Analisis Komponen (Principal Component Analysis/PCA)\n",
    "**PCA** Merupakan sebuah prosedur yang mengonversi serangkaian observasi dari m menjadi n dimensi (dimana m>n). setalah menganalisis *feature* yang berkorelasi dalam variabel. Metode ini biasanya digunakan untuk visualisasi atau pengurangan dimensi.\n",
    "Cara menerapkan PCA sama dengan menerapkan estimator lainnya.\n",
    "1. Buat sebuah estimator.\n",
    "2. Pasang estimator pada model untuk mendapatkan *transformer*.\n",
    "3. Aplikasikan *transformer* pada data.\n",
    "\n",
    "Mari mengaplikasikan PCA pada dataset dari gambar tulisan tangan. Data tersebut memiliki 785 kolom. \n",
    "Sekarang kita dapat merubahnya menjadi 2 dimensi dengan menggunakan PCA."
   ]
  },
  {
   "cell_type": "markdown",
   "metadata": {},
   "source": [
    "Pertama, mari membaca data dan mengumpulkan pixel-pixenya ke dalam kolom *feature*."
   ]
  },
  {
   "cell_type": "code",
   "execution_count": 17,
   "metadata": {},
   "outputs": [],
   "source": [
    "data = spark.read.csv('./digits.csv', header=True, inferSchema=True)\n",
    "from pyspark.ml.feature import VectorAssembler\n",
    "assembler = VectorAssembler(inputCols=data.columns[1:], outputCol='features')\n",
    "data_2 = assembler.transform(data)"
   ]
  },
  {
   "cell_type": "markdown",
   "metadata": {},
   "source": [
    "Kita membuat PCA model kita dengan k = 2 (banyaknya dimensi output)."
   ]
  },
  {
   "cell_type": "code",
   "execution_count": 18,
   "metadata": {},
   "outputs": [],
   "source": [
    "from pyspark.ml.feature import PCA\n",
    "pca = PCA(k=2, inputCol='features', outputCol='features_pca')"
   ]
  },
  {
   "cell_type": "markdown",
   "metadata": {},
   "source": [
    "KIta men-*train* estimator."
   ]
  },
  {
   "cell_type": "code",
   "execution_count": 19,
   "metadata": {},
   "outputs": [],
   "source": [
    "pca_model = pca.fit(data_2)"
   ]
  },
  {
   "cell_type": "markdown",
   "metadata": {},
   "source": [
    "Terakhir, kita mengaplikasikan model pada data."
   ]
  },
  {
   "cell_type": "code",
   "execution_count": 20,
   "metadata": {},
   "outputs": [
    {
     "name": "stdout",
     "output_type": "stream",
     "text": [
      "+--------------------+\n",
      "|        features_pca|\n",
      "+--------------------+\n",
      "|[103.738813757982...|\n",
      "|[2466.78627830941...|\n",
      "|[-121.55984060478...|\n",
      "|[599.578991071953...|\n",
      "|[2689.04430947598...|\n",
      "|[1253.08650413365...|\n",
      "|[93.0114290617962...|\n",
      "|[650.952778816163...|\n",
      "|[1115.56395904828...|\n",
      "|[1062.72668192116...|\n",
      "|[1029.01690081557...|\n",
      "|[458.805321389768...|\n",
      "|[-200.34133976162...|\n",
      "|[751.263926957183...|\n",
      "|[1265.44211418056...|\n",
      "|[-199.11010313256...|\n",
      "|[762.715694923041...|\n",
      "|[1744.79986516159...|\n",
      "|[128.314928856543...|\n",
      "|[1731.44148649029...|\n",
      "+--------------------+\n",
      "only showing top 20 rows\n",
      "\n"
     ]
    }
   ],
   "source": [
    "pca_data = pca_model.transform(data_2).select('features_pca')\n",
    "pca_data.show()"
   ]
  },
  {
   "cell_type": "markdown",
   "metadata": {},
   "source": [
    "Sekarang mari kita ubah data kita menjadi pandas dataframe dan memvisualisasikannya."
   ]
  },
  {
   "cell_type": "code",
   "execution_count": 21,
   "metadata": {},
   "outputs": [
    {
     "name": "stdout",
     "output_type": "stream",
     "text": [
      "                                    features_pca\n",
      "0        [103.73881375798244, 699.5124334036431]\n",
      "1         [2466.786278309411, 360.7526613889307]\n",
      "2      [-121.55984060478046, 293.96688737760746]\n",
      "3       [599.5789910719535, -299.98165533942404]\n",
      "4         [2689.044309475987, 449.3541744175658]\n",
      "...                                          ...\n",
      "41995    [1525.689872940072, 250.05532485154546]\n",
      "41996    [-294.538589480864, 302.49345587128744]\n",
      "41997   [1101.6045752108482, -949.8141750943781]\n",
      "41998   [1092.7339850472454, -61.81498424651614]\n",
      "41999    [401.085393632208, -418.69192126048745]\n",
      "\n",
      "[42000 rows x 1 columns]\n"
     ]
    },
    {
     "data": {
      "image/png": "[encoded data removed]",
      "text/plain": [
       "<Figure size 432x288 with 2 Axes>"
      ]
     },
     "metadata": {
      "needs_background": "light"
     },
     "output_type": "display_data"
    }
   ],
   "source": [
    "import pandas as pd\n",
    "import matplotlib.pyplot as plt\n",
    "\n",
    "pandasDf = pca_data.toPandas()\n",
    "print(pandasDf)\n",
    "\n",
    "x_values = [point[0] for point in pandasDf['features_pca']]\n",
    "y_values = [point[1] for point in pandasDf['features_pca']]\n",
    "\n",
    "colors = range(len(x_values))\n",
    "plt.scatter(x=x_values, y=y_values, c=colors)\n",
    "\n",
    "plt.colorbar()\n",
    "\n",
    "# Show the plot\n",
    "plt.show()"
   ]
  },
  {
   "cell_type": "markdown",
   "metadata": {},
   "source": [
    "### Kesimpulan\n",
    "Kita sudah belajar tiga teknik untuk merubah data menjadi data yang lebih relevan dan optimal untuk algorimta *machine learning*."
   ]
  }
 ],
 "metadata": {
  "kernelspec": {
   "display_name": "Python 3",
   "language": "python",
   "name": "python3"
  },
  "language_info": {
   "codemirror_mode": {
    "name": "ipython",
    "version": 3
   },
   "file_extension": ".py",
   "mimetype": "text/x-python",
   "name": "python",
   "nbconvert_exporter": "python",
   "pygments_lexer": "ipython3",
   "version": "3.8.10"
  }
 },
 "nbformat": 4,
 "nbformat_minor": 4
}
