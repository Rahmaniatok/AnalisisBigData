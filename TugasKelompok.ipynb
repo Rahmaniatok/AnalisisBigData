{
 "cells": [
  {
   "cell_type": "markdown",
   "metadata": {
    "id": "BuEh7lOFNX-z"
   },
   "source": [
    "Tugas 1 adalah tugas kelompok, masing-masing kelompok beranggotakan 3 mahasiswa.\n",
    "Diberikan file Auto.csv yang dapat diunduh dari Google Classroom. Berdasarkan file tersebut buat contoh\n",
    "dari perintah-perintah di bawah ini menggunakan perintah PySpark dalam jupyter notebook. Setiap jawaban\n",
    "harus dapat dijalankan di notebook dan ditunjukkan luarannya. Unggah notebook ke Google Classroom\n",
    "paling lambat hari Kamis, 09 Maret 2023, pukul 24.00. Untuk unggah notebook setiap kelompok diwakili\n",
    "oleh salah satu anggota saja.\n",
    "\n",
    "1. Berikan contoh cara mengambil satu kolom dari sebuah DataFrame PySpark.\n",
    "2. Berikan contoh cara mengambil beberapa kolom dari sebuah DataFrame PySpark.\n",
    "3. Berikan contoh cara mengubah nama sebuah kolom dalam sebuah DataFrame PySpark.\n",
    "4. Berikan contoh cara menghapus sebuah kolom dari sebuah DataFrame PySpark.\n",
    "5. Berikan contoh cara melakukan filter baris dalam sebuah DataFrame PySpark berdasarkan satu kondisi.\n",
    "6. Berikan contoh cara melakukan filter baris dalam sebuah DataFrame PySpark berdasarkan beberapa\n",
    "kondisi.\n",
    "7. Berikan contoh cara melakukan filter baris dalam sebuah DataFrame PySpark berdasarkan sebuah\n",
    "substring dalam sebuah kolom.\n",
    "8. Berikan contoh cara melakukan filter baris dalam sebuah DataFrame PySpark berdasarkan sebuah\n",
    "regular expression dalam sebuah kolom.\n",
    "9. Berikan contoh cara melakukan filter baris dalam sebuah DataFrame PySpark berdasarkan sebuah\n",
    "daftar nilai dalam sebuah kolom.\n",
    "10. Berikan contoh cara melakukan filter baris dalam sebuah DataFrame PySpark berdasarkan sebuah\n",
    "rentang nilai dalam sebuah kolom.\n",
    "11. Berikan contoh cara melakukan filter baris dalam sebuah DataFrame PySpark berdasarkan nilai null\n",
    "atau non-null dalam sebuah kolom.\n",
    "12. Berikan contoh cara menggabungkan beberapa kondisi filter dalam sebuah DataFrame PySpark.\n",
    "13. Berikan contoh cara melakukan sorting dalam sebuah DataFrame PySpark berdasarkan satu atau\n",
    "beberapa kolom.\n",
    "14. Berikan contoh cara menggunakan fungsi-fungsi SQL PySpark untuk mengubah nilai kolom sebelum\n",
    "melakukan filter.\n",
    "15. Berikan contoh cara menghitung jumlah baris dalam setiap kelompok dari sebuah DataFrame PySpark.\n",
    "16. Berikan contoh cara menghitung jumlah, rata-rata, minimum, dan maksimum dari sebuah kolom\n",
    "numerik untuk setiap kelompok dalam sebuah DataFrame PySpark."
   ]
  },
  {
   "cell_type": "code",
   "execution_count": 107,
   "metadata": {
    "colab": {
     "base_uri": "https://localhost:8080/"
    },
    "id": "skfN_CKdOgrX",
    "outputId": "7b14ebbb-df6a-4095-c6da-e5fd5a0ecf96"
   },
   "outputs": [],
   "source": [
    "# from google.colab import drive\n",
    "# drive.mount('/content/drive')"
   ]
  },
  {
   "cell_type": "markdown",
   "metadata": {
    "id": "7jV0majsNWku"
   },
   "source": []
  },
  {
   "cell_type": "code",
   "execution_count": 108,
   "metadata": {
    "colab": {
     "base_uri": "https://localhost:8080/"
    },
    "id": "Ehb5KsbcQaAp",
    "outputId": "e7899050-bf98-457c-dd36-8c2299f32788"
   },
   "outputs": [],
   "source": [
    "#pip install pyspark"
   ]
  },
  {
   "cell_type": "code",
   "execution_count": 109,
   "metadata": {
    "id": "OI6VaH-KQIAW"
   },
   "outputs": [],
   "source": [
    "import pandas as pd\n",
    "from pyspark.sql import SparkSession\n",
    "import pyspark\n",
    "spark = SparkSession.builder.getOrCreate()\n",
    "from pyspark.sql import Row\n",
    "from pyspark.sql import Column\n",
    "from pyspark.sql.functions import upper\n",
    "from pyspark.sql.functions import lit"
   ]
  },
  {
   "cell_type": "code",
   "execution_count": 110,
   "metadata": {
    "id": "1TmpWFn2N5l-"
   },
   "outputs": [
    {
     "name": "stdout",
     "output_type": "stream",
     "text": [
      "+-----------+---------+----------+------------+-----------+----------+------+-----+------+-----------+-----------+----------------+-----------+-----------------+----------+--------+-----+\n",
      "|       make|fuel-type|aspiration|num-of-doors| body-style|wheel-base|length|width|height|curb-weight|engine-type|num-of-cylinders|engine-size|compression-ratio|horsepower|peak-rpm|price|\n",
      "+-----------+---------+----------+------------+-----------+----------+------+-----+------+-----------+-----------+----------------+-----------+-----------------+----------+--------+-----+\n",
      "|alfa-romero|      gas|       std|         two|convertible|      88.6| 168.8| 64.1|  48.8|       2548|       dohc|            four|        130|              9.0|       111|    5000|13495|\n",
      "|alfa-romero|      gas|       std|         two|convertible|      88.6| 168.8| 64.1|  48.8|       2548|       dohc|            four|        130|              9.0|       111|    5000|16500|\n",
      "|alfa-romero|      gas|       std|         two|  hatchback|      94.5| 171.2| 65.5|  52.4|       2823|       ohcv|             six|        152|              9.0|       154|    5000|16500|\n",
      "|       audi|      gas|       std|        four|      sedan|      99.8| 176.6| 66.2|  54.3|       2337|        ohc|            four|        109|             10.0|       102|    5500|13950|\n",
      "|       audi|      gas|       std|        four|      sedan|      99.4| 176.6| 66.4|  54.3|       2824|        ohc|            five|        136|              8.0|       115|    5500|17450|\n",
      "|       audi|      gas|       std|         two|      sedan|      99.8| 177.3| 66.3|  53.1|       2507|        ohc|            five|        136|              8.5|       110|    5500|15250|\n",
      "|       audi|      gas|       std|        four|      sedan|     105.8| 192.7| 71.4|  55.7|       2844|        ohc|            five|        136|              8.5|       110|    5500|17710|\n",
      "|       audi|      gas|       std|        four|      wagon|     105.8| 192.7| 71.4|  55.7|       2954|        ohc|            five|        136|              8.5|       110|    5500|18920|\n",
      "|       audi|      gas|     turbo|        four|      sedan|     105.8| 192.7| 71.4|  55.9|       3086|        ohc|            five|        131|              8.3|       140|    5500|23875|\n",
      "|       audi|      gas|     turbo|         two|  hatchback|      99.5| 178.2| 67.9|  52.0|       3053|        ohc|            five|        131|              7.0|       160|    5500| null|\n",
      "|        bmw|      gas|       std|         two|      sedan|     101.2| 176.8| 64.8|  54.3|       2395|        ohc|            four|        108|              8.8|       101|    5800|16430|\n",
      "|        bmw|      gas|       std|        four|      sedan|     101.2| 176.8| 64.8|  54.3|       2395|        ohc|            four|        108|              8.8|       101|    5800|16925|\n",
      "|        bmw|      gas|       std|         two|      sedan|     101.2| 176.8| 64.8|  54.3|       2710|        ohc|             six|        164|              9.0|       121|    4250|20970|\n",
      "|        bmw|      gas|       std|        four|      sedan|     101.2| 176.8| 64.8|  54.3|       2765|        ohc|             six|        164|              9.0|       121|    4250|21105|\n",
      "|        bmw|      gas|       std|        four|      sedan|     103.5| 189.0| 66.9|  55.7|       3055|        ohc|             six|        164|              9.0|       121|    4250|24565|\n",
      "|        bmw|      gas|       std|        four|      sedan|     103.5| 189.0| 66.9|  55.7|       3230|        ohc|             six|        209|              8.0|       182|    5400|30760|\n",
      "|        bmw|      gas|       std|         two|      sedan|     103.5| 193.8| 67.9|  53.7|       3380|        ohc|             six|        209|              8.0|       182|    5400|41315|\n",
      "|        bmw|      gas|       std|        four|      sedan|     110.0| 197.0| 70.9|  56.3|       3505|        ohc|             six|        209|              8.0|       182|    5400|36880|\n",
      "|  chevrolet|      gas|       std|         two|  hatchback|      88.4| 141.1| 60.3|  53.2|       1488|          l|           three|         61|              9.5|        48|    5100| 5151|\n",
      "|  chevrolet|      gas|       std|         two|  hatchback|      94.5| 155.9| 63.6|  52.0|       1874|        ohc|            four|         90|              9.6|        70|    5400| 6295|\n",
      "+-----------+---------+----------+------------+-----------+----------+------+-----+------+-----------+-----------+----------------+-----------+-----------------+----------+--------+-----+\n",
      "only showing top 20 rows\n",
      "\n"
     ]
    }
   ],
   "source": [
    "book = spark.read.option(\"inferSchema\", \"true\").option(\"header\", \"true\").csv(\"Auto.csv\")\n",
    "book.show()"
   ]
  },
  {
   "cell_type": "code",
   "execution_count": 111,
   "metadata": {
    "id": "ZGClWLvbSbS2"
   },
   "outputs": [
    {
     "name": "stdout",
     "output_type": "stream",
     "text": [
      "+-----------+---------+----------+\n",
      "|       make|fuel-type|aspiration|\n",
      "+-----------+---------+----------+\n",
      "|alfa-romero|      gas|       std|\n",
      "|alfa-romero|      gas|       std|\n",
      "|alfa-romero|      gas|       std|\n",
      "|       audi|      gas|       std|\n",
      "|       audi|      gas|       std|\n",
      "|       audi|      gas|       std|\n",
      "|       audi|      gas|       std|\n",
      "|       audi|      gas|       std|\n",
      "|       audi|      gas|     turbo|\n",
      "|       audi|      gas|     turbo|\n",
      "|        bmw|      gas|       std|\n",
      "|        bmw|      gas|       std|\n",
      "|        bmw|      gas|       std|\n",
      "|        bmw|      gas|       std|\n",
      "|        bmw|      gas|       std|\n",
      "|        bmw|      gas|       std|\n",
      "|        bmw|      gas|       std|\n",
      "|        bmw|      gas|       std|\n",
      "|  chevrolet|      gas|       std|\n",
      "|  chevrolet|      gas|       std|\n",
      "+-----------+---------+----------+\n",
      "only showing top 20 rows\n",
      "\n",
      "root\n",
      " |-- make: string (nullable = true)\n",
      " |-- fuel-type: string (nullable = true)\n",
      " |-- aspiration: string (nullable = true)\n",
      " |-- num-of-doors: string (nullable = true)\n",
      " |-- body-style: string (nullable = true)\n",
      " |-- wheel-base: double (nullable = true)\n",
      " |-- length: double (nullable = true)\n",
      " |-- width: double (nullable = true)\n",
      " |-- height: double (nullable = true)\n",
      " |-- curb-weight: integer (nullable = true)\n",
      " |-- engine-type: string (nullable = true)\n",
      " |-- num-of-cylinders: string (nullable = true)\n",
      " |-- engine-size: integer (nullable = true)\n",
      " |-- compression-ratio: double (nullable = true)\n",
      " |-- horsepower: integer (nullable = true)\n",
      " |-- peak-rpm: integer (nullable = true)\n",
      " |-- price: integer (nullable = true)\n",
      "\n"
     ]
    }
   ],
   "source": [
    "#2.Mengambil beberapa kolom\n",
    "\n",
    "book.select(\"make\", \"fuel-type\", \"aspiration\").show()\n",
    "book.printSchema()"
   ]
  },
  {
   "cell_type": "code",
   "execution_count": 112,
   "metadata": {
    "id": "i6B-U1WBRAjr"
   },
   "outputs": [
    {
     "name": "stdout",
     "output_type": "stream",
     "text": [
      "+-----+---------+----------+------------+----------+----------+------+-----+------+-----------+-----------+----------------+-----------+-----------------+----------+--------+-----+\n",
      "| make|fuel-type|aspiration|num-of-doors|body-style|wheel-base|length|width|height|curb-weight|engine-type|num-of-cylinders|engine-size|compression-ratio|horsepower|peak-rpm|price|\n",
      "+-----+---------+----------+------------+----------+----------+------+-----+------+-----------+-----------+----------------+-----------+-----------------+----------+--------+-----+\n",
      "|dodge|      gas|       std|         two| hatchback|      93.7| 157.3| 63.8|  50.8|       1876|        ohc|            four|         90|             9.41|        68|    5500| 5572|\n",
      "|dodge|      gas|       std|         two| hatchback|      93.7| 157.3| 63.8|  50.8|       1876|        ohc|            four|         90|              9.4|        68|    5500| 6377|\n",
      "|dodge|      gas|     turbo|         two| hatchback|      93.7| 157.3| 63.8|  50.8|       2128|        ohc|            four|         98|              7.6|       102|    5500| 7957|\n",
      "|dodge|      gas|       std|        four| hatchback|      93.7| 157.3| 63.8|  50.6|       1967|        ohc|            four|         90|              9.4|        68|    5500| 6229|\n",
      "|dodge|      gas|       std|        four|     sedan|      93.7| 157.3| 63.8|  50.6|       1989|        ohc|            four|         90|              9.4|        68|    5500| 6692|\n",
      "|dodge|      gas|       std|        four|     sedan|      93.7| 157.3| 63.8|  50.6|       1989|        ohc|            four|         90|              9.4|        68|    5500| 7609|\n",
      "|dodge|      gas|     turbo|        null|     sedan|      93.7| 157.3| 63.8|  50.6|       2191|        ohc|            four|         98|              7.6|       102|    5500| 8558|\n",
      "|dodge|      gas|       std|        four|     wagon|     103.3| 174.6| 64.6|  59.8|       2535|        ohc|            four|        122|              8.5|        88|    5000| 8921|\n",
      "|dodge|      gas|     turbo|         two| hatchback|      95.9| 173.2| 66.3|  50.2|       2811|        ohc|            four|        156|              7.0|       145|    5000|12964|\n",
      "+-----+---------+----------+------------+----------+----------+------+-----+------+-----------+-----------+----------------+-----------+-----------------+----------+--------+-----+\n",
      "\n"
     ]
    }
   ],
   "source": [
    "#5. Filter baris\n",
    "book.filter(book.make == 'dodge').show()"
   ]
  },
  {
   "cell_type": "code",
   "execution_count": 113,
   "metadata": {},
   "outputs": [
    {
     "name": "stdout",
     "output_type": "stream",
     "text": [
      "+-----------+---------+----------+------------+-----------+----------+------+-----+------+-----------+-----------+----------------+-----------+-----------------+----------+--------+-----+\n",
      "|       make|fuel-type|aspiration|num-of-doors| body-style|wheel-base|length|width|height|curb-weight|engine-type|num-of-cylinders|engine-size|compression-ratio|horsepower|peak-rpm|price|\n",
      "+-----------+---------+----------+------------+-----------+----------+------+-----+------+-----------+-----------+----------------+-----------+-----------------+----------+--------+-----+\n",
      "|alfa-romero|      gas|       std|         two|convertible|      88.6| 168.8| 64.1|  48.8|       2548|       dohc|            four|        130|              9.0|       111|    5000|13495|\n",
      "|alfa-romero|      gas|       std|         two|convertible|      88.6| 168.8| 64.1|  48.8|       2548|       dohc|            four|        130|              9.0|       111|    5000|16500|\n",
      "|alfa-romero|      gas|       std|         two|  hatchback|      94.5| 171.2| 65.5|  52.4|       2823|       ohcv|             six|        152|              9.0|       154|    5000|16500|\n",
      "|       audi|      gas|       std|        four|      sedan|      99.8| 176.6| 66.2|  54.3|       2337|        ohc|            four|        109|             10.0|       102|    5500|13950|\n",
      "|       audi|      gas|       std|        four|      sedan|      99.4| 176.6| 66.4|  54.3|       2824|        ohc|            five|        136|              8.0|       115|    5500|17450|\n",
      "|       audi|      gas|       std|         two|      sedan|      99.8| 177.3| 66.3|  53.1|       2507|        ohc|            five|        136|              8.5|       110|    5500|15250|\n",
      "|       audi|      gas|       std|        four|      sedan|     105.8| 192.7| 71.4|  55.7|       2844|        ohc|            five|        136|              8.5|       110|    5500|17710|\n",
      "|       audi|      gas|       std|        four|      wagon|     105.8| 192.7| 71.4|  55.7|       2954|        ohc|            five|        136|              8.5|       110|    5500|18920|\n",
      "|       audi|      gas|     turbo|        four|      sedan|     105.8| 192.7| 71.4|  55.9|       3086|        ohc|            five|        131|              8.3|       140|    5500|23875|\n",
      "|       audi|      gas|     turbo|         two|  hatchback|      99.5| 178.2| 67.9|  52.0|       3053|        ohc|            five|        131|              7.0|       160|    5500| null|\n",
      "|        bmw|      gas|       std|         two|      sedan|     101.2| 176.8| 64.8|  54.3|       2395|        ohc|            four|        108|              8.8|       101|    5800|16430|\n",
      "|        bmw|      gas|       std|        four|      sedan|     101.2| 176.8| 64.8|  54.3|       2395|        ohc|            four|        108|              8.8|       101|    5800|16925|\n",
      "|        bmw|      gas|       std|         two|      sedan|     101.2| 176.8| 64.8|  54.3|       2710|        ohc|             six|        164|              9.0|       121|    4250|20970|\n",
      "|        bmw|      gas|       std|        four|      sedan|     101.2| 176.8| 64.8|  54.3|       2765|        ohc|             six|        164|              9.0|       121|    4250|21105|\n",
      "|        bmw|      gas|       std|        four|      sedan|     103.5| 189.0| 66.9|  55.7|       3055|        ohc|             six|        164|              9.0|       121|    4250|24565|\n",
      "|        bmw|      gas|       std|        four|      sedan|     103.5| 189.0| 66.9|  55.7|       3230|        ohc|             six|        209|              8.0|       182|    5400|30760|\n",
      "|        bmw|      gas|       std|         two|      sedan|     103.5| 193.8| 67.9|  53.7|       3380|        ohc|             six|        209|              8.0|       182|    5400|41315|\n",
      "|        bmw|      gas|       std|        four|      sedan|     110.0| 197.0| 70.9|  56.3|       3505|        ohc|             six|        209|              8.0|       182|    5400|36880|\n",
      "|  chevrolet|      gas|       std|         two|  hatchback|      94.5| 155.9| 63.6|  52.0|       1874|        ohc|            four|         90|              9.6|        70|    5400| 6295|\n",
      "|  chevrolet|      gas|       std|        four|      sedan|      94.5| 158.8| 63.6|  52.0|       1909|        ohc|            four|         90|              9.6|        70|    5400| 6575|\n",
      "+-----------+---------+----------+------------+-----------+----------+------+-----+------+-----------+-----------+----------------+-----------+-----------------+----------+--------+-----+\n",
      "only showing top 20 rows\n",
      "\n"
     ]
    }
   ],
   "source": [
    "#8. Filter berdasar Regular Ekspresion\n",
    "from pyspark.sql.functions import col, regexp_extract\n",
    "book.filter(regexp_extract(col(\"engine-type\"), \"ohc\", 0)!= \"\").show()"
   ]
  },
  {
   "cell_type": "code",
   "execution_count": 114,
   "metadata": {},
   "outputs": [
    {
     "name": "stdout",
     "output_type": "stream",
     "text": [
      "+----+---------+----------+------------+----------+----------+------+-----+------+-----------+-----------+----------------+-----------+-----------------+----------+--------+-----+\n",
      "|make|fuel-type|aspiration|num-of-doors|body-style|wheel-base|length|width|height|curb-weight|engine-type|num-of-cylinders|engine-size|compression-ratio|horsepower|peak-rpm|price|\n",
      "+----+---------+----------+------------+----------+----------+------+-----+------+-----------+-----------+----------------+-----------+-----------------+----------+--------+-----+\n",
      "+----+---------+----------+------------+----------+----------+------+-----+------+-----------+-----------+----------------+-----------+-----------------+----------+--------+-----+\n",
      "\n"
     ]
    }
   ],
   "source": [
    "#11. Filter baris berdasarkan nilai null atau non null\n",
    "\n",
    "book.filter(book.make.isNull()).show()"
   ]
  },
  {
   "cell_type": "code",
   "execution_count": 118,
   "metadata": {},
   "outputs": [
    {
     "name": "stdout",
     "output_type": "stream",
     "text": [
      "+-----------+---------+----------+------------+-----------+----------+------+-----+------+-----------+-----------+----------------+-----------+-----------------+----------+--------+-----+\n",
      "|       make|fuel-type|aspiration|num-of-doors| body-style|wheel-base|length|width|height|curb-weight|engine-type|num-of-cylinders|engine-size|compression-ratio|horsepower|peak-rpm|price|\n",
      "+-----------+---------+----------+------------+-----------+----------+------+-----+------+-----------+-----------+----------------+-----------+-----------------+----------+--------+-----+\n",
      "|alfa-romero|      gas|       std|         two|convertible|      88.6| 168.8| 64.1|  48.8|       2548|       dohc|            four|        130|              9.0|       111|    5000|13495|\n",
      "|alfa-romero|      gas|       std|         two|convertible|      88.6| 168.8| 64.1|  48.8|       2548|       dohc|            four|        130|              9.0|       111|    5000|16500|\n",
      "|  chevrolet|      gas|       std|         two|  hatchback|      94.5| 155.9| 63.6|  52.0|       1874|        ohc|            four|         90|              9.6|        70|    5400| 6295|\n",
      "|  chevrolet|      gas|       std|        four|      sedan|      94.5| 158.8| 63.6|  52.0|       1909|        ohc|            four|         90|              9.6|        70|    5400| 6575|\n",
      "|      dodge|      gas|       std|         two|  hatchback|      93.7| 157.3| 63.8|  50.8|       1876|        ohc|            four|         90|             9.41|        68|    5500| 5572|\n",
      "|      dodge|      gas|       std|         two|  hatchback|      93.7| 157.3| 63.8|  50.8|       1876|        ohc|            four|         90|              9.4|        68|    5500| 6377|\n",
      "|      dodge|      gas|     turbo|         two|  hatchback|      93.7| 157.3| 63.8|  50.8|       2128|        ohc|            four|         98|              7.6|       102|    5500| 7957|\n",
      "|      dodge|      gas|       std|        four|  hatchback|      93.7| 157.3| 63.8|  50.6|       1967|        ohc|            four|         90|              9.4|        68|    5500| 6229|\n",
      "|      dodge|      gas|       std|        four|      sedan|      93.7| 157.3| 63.8|  50.6|       1989|        ohc|            four|         90|              9.4|        68|    5500| 6692|\n",
      "|      dodge|      gas|       std|        four|      sedan|      93.7| 157.3| 63.8|  50.6|       1989|        ohc|            four|         90|              9.4|        68|    5500| 7609|\n",
      "|      dodge|      gas|     turbo|        null|      sedan|      93.7| 157.3| 63.8|  50.6|       2191|        ohc|            four|         98|              7.6|       102|    5500| 8558|\n",
      "|      honda|      gas|       std|         two|  hatchback|      86.6| 144.6| 63.9|  50.8|       1713|        ohc|            four|         92|              9.6|        58|    4800| 6479|\n",
      "|      honda|      gas|       std|         two|  hatchback|      86.6| 144.6| 63.9|  50.8|       1819|        ohc|            four|         92|              9.2|        76|    6000| 6855|\n",
      "|      honda|      gas|       std|         two|  hatchback|      93.7| 150.0| 64.0|  52.6|       1837|        ohc|            four|         79|             10.1|        60|    5500| 5399|\n",
      "|      honda|      gas|       std|         two|  hatchback|      93.7| 150.0| 64.0|  52.6|       1940|        ohc|            four|         92|              9.2|        76|    6000| 6529|\n",
      "|      honda|      gas|       std|         two|  hatchback|      93.7| 150.0| 64.0|  52.6|       1956|        ohc|            four|         92|              9.2|        76|    6000| 7129|\n",
      "|      honda|      gas|       std|        four|      sedan|      96.5| 163.4| 64.0|  54.5|       2010|        ohc|            four|         92|              9.2|        76|    6000| 7295|\n",
      "|      honda|      gas|       std|        four|      wagon|      96.5| 157.1| 63.9|  58.3|       2024|        ohc|            four|         92|              9.2|        76|    6000| 7295|\n",
      "|      isuzu|      gas|       std|         two|      sedan|      94.5| 155.9| 63.6|  52.0|       1874|        ohc|            four|         90|              9.6|        70|    5400| null|\n",
      "|      isuzu|      gas|       std|        four|      sedan|      94.5| 155.9| 63.6|  52.0|       1909|        ohc|            four|         90|              9.6|        70|    5400| null|\n",
      "+-----------+---------+----------+------------+-----------+----------+------+-----+------+-----------+-----------+----------------+-----------+-----------------+----------+--------+-----+\n",
      "only showing top 20 rows\n",
      "\n"
     ]
    }
   ],
   "source": [
    "#14.menggunakan fungsi-fungsi SQL PySpark untuk mengubah nilai kolom sebelum melakukan filter\n",
    "book.createOrReplaceTempView(\"bookSQL\")\n",
    "\n",
    "spark.sql(\"SELECT * FROM bookSQL WHERE ROUND(width, 0) == 64\").show()"
   ]
  },
  {
   "cell_type": "code",
   "execution_count": null,
   "metadata": {},
   "outputs": [],
   "source": []
  }
 ],
 "metadata": {
  "colab": {
   "provenance": []
  },
  "kernelspec": {
   "display_name": "Python 3",
   "language": "python",
   "name": "python3"
  },
  "language_info": {
   "codemirror_mode": {
    "name": "ipython",
    "version": 3
   },
   "file_extension": ".py",
   "mimetype": "text/x-python",
   "name": "python",
   "nbconvert_exporter": "python",
   "pygments_lexer": "ipython3",
   "version": "3.8.10"
  }
 },
 "nbformat": 4,
 "nbformat_minor": 1
}
